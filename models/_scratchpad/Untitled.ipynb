{
 "cells": [
  {
   "cell_type": "code",
   "execution_count": 12,
   "metadata": {},
   "outputs": [],
   "source": [
    "import numpy as np\n",
    "from scipy.stats import beta, uniform, bernoulli, norm, multinomial"
   ]
  },
  {
   "cell_type": "code",
   "execution_count": 61,
   "metadata": {},
   "outputs": [
    {
     "name": "stderr",
     "output_type": "stream",
     "text": [
      "/Users/sebschu/anaconda3/lib/python3.6/site-packages/ipykernel_launcher.py:9: RuntimeWarning: divide by zero encountered in log\n",
      "  if __name__ == '__main__':\n"
     ]
    }
   ],
   "source": [
    "theta_prior_cache = {}\n",
    "probabilities_len = 21\n",
    "lit_listener_shp = (probabilities_len, probabilities_len)\n",
    "\n",
    "listener_matrix = np.tril(np.full(lit_listener_shp, 1.0, dtype=np.float64), 0) \n",
    "col_sums = np.sum(listener_matrix, axis=0)\n",
    "listener_matrix = listener_matrix / col_sums\n",
    "\n",
    "speaker_matrix = np.log(listener_matrix)\n",
    "\n",
    "def theta_prior(a, b, exclude_lower=False, exclude_upper=False):\n",
    "    key_tuple = (a, b, exclude_lower, exclude_upper)\n",
    "    if key_tuple not in theta_prior_cache:\n",
    "      distr = beta(a,b)\n",
    "      ticks = np.arange(0.0, 1.01, 0.05)\n",
    "      ticks[0] = .000001\n",
    "      ticks[-1] = 1 - .000001\n",
    "      probs =  distr.pdf(ticks)\n",
    "      #probs[np.isfinite(probs) == False] = 0\n",
    "      print(probs)\n",
    "      print((probs / sum(probs)))\n",
    "      theta_prior_cache[key_tuple] = multinomial(n=1, p=(probs / sum(probs)))\n",
    "    return theta_prior_cache[key_tuple]"
   ]
  },
  {
   "cell_type": "code",
   "execution_count": 66,
   "metadata": {},
   "outputs": [],
   "source": [
    "thresholds = theta_prior(2,4).rvs(10000)\n",
    "thresholds = [np.where(r==1)[0][0] for r in thresholds]"
   ]
  },
  {
   "cell_type": "code",
   "execution_count": 80,
   "metadata": {},
   "outputs": [],
   "source": [
    "expr1 = np.take(speaker_matrix, indices=thresholds, axis=1)\n",
    "expr2 = np.take(speaker_matrix, indices=thresholds, axis=1)\n",
    "expr3 = np.take(speaker_matrix, indices=[0] * 10000, axis=1)"
   ]
  },
  {
   "cell_type": "code",
   "execution_count": 81,
   "metadata": {
    "collapsed": true
   },
   "outputs": [],
   "source": [
    "expr3 = expr3 - 2.5"
   ]
  },
  {
   "cell_type": "code",
   "execution_count": 99,
   "metadata": {},
   "outputs": [],
   "source": [
    "stacked = np.stack([expr1, expr2, expr3])"
   ]
  },
  {
   "cell_type": "code",
   "execution_count": 98,
   "metadata": {},
   "outputs": [],
   "source": [
    "costs = np.array([1,2,3]).reshape((3,1,1))"
   ]
  },
  {
   "cell_type": "code",
   "execution_count": 84,
   "metadata": {},
   "outputs": [],
   "source": [
    "stacked = stacked / np.sum(stacked, axis=0, keepdims=True)"
   ]
  },
  {
   "cell_type": "code",
   "execution_count": 101,
   "metadata": {},
   "outputs": [
    {
     "data": {
      "text/plain": [
       "array([[[       -inf,        -inf,        -inf, ...,        -inf,\n",
       "                -inf,        -inf],\n",
       "        [       -inf,        -inf,        -inf, ...,        -inf,\n",
       "                -inf,        -inf],\n",
       "        [       -inf,        -inf,        -inf, ...,        -inf,\n",
       "                -inf,        -inf],\n",
       "        ..., \n",
       "        [-3.63905733, -3.07944154, -3.89037176, ..., -3.7080502 ,\n",
       "         -3.39789527, -3.7080502 ],\n",
       "        [-3.63905733, -3.07944154, -3.89037176, ..., -3.7080502 ,\n",
       "         -3.39789527, -3.7080502 ],\n",
       "        [-3.63905733, -3.07944154, -3.89037176, ..., -3.7080502 ,\n",
       "         -3.39789527, -3.7080502 ]],\n",
       "\n",
       "       [[       -inf,        -inf,        -inf, ...,        -inf,\n",
       "                -inf,        -inf],\n",
       "        [       -inf,        -inf,        -inf, ...,        -inf,\n",
       "                -inf,        -inf],\n",
       "        [       -inf,        -inf,        -inf, ...,        -inf,\n",
       "                -inf,        -inf],\n",
       "        ..., \n",
       "        [-4.63905733, -4.07944154, -4.89037176, ..., -4.7080502 ,\n",
       "         -4.39789527, -4.7080502 ],\n",
       "        [-4.63905733, -4.07944154, -4.89037176, ..., -4.7080502 ,\n",
       "         -4.39789527, -4.7080502 ],\n",
       "        [-4.63905733, -4.07944154, -4.89037176, ..., -4.7080502 ,\n",
       "         -4.39789527, -4.7080502 ]],\n",
       "\n",
       "       [[-8.54452244, -8.54452244, -8.54452244, ..., -8.54452244,\n",
       "         -8.54452244, -8.54452244],\n",
       "        [-8.54452244, -8.54452244, -8.54452244, ..., -8.54452244,\n",
       "         -8.54452244, -8.54452244],\n",
       "        [-8.54452244, -8.54452244, -8.54452244, ..., -8.54452244,\n",
       "         -8.54452244, -8.54452244],\n",
       "        ..., \n",
       "        [-8.54452244, -8.54452244, -8.54452244, ..., -8.54452244,\n",
       "         -8.54452244, -8.54452244],\n",
       "        [-8.54452244, -8.54452244, -8.54452244, ..., -8.54452244,\n",
       "         -8.54452244, -8.54452244],\n",
       "        [-8.54452244, -8.54452244, -8.54452244, ..., -8.54452244,\n",
       "         -8.54452244, -8.54452244]]])"
      ]
     },
     "execution_count": 101,
     "metadata": {},
     "output_type": "execute_result"
    }
   ],
   "source": [
    "stacked - costs"
   ]
  },
  {
   "cell_type": "code",
   "execution_count": 86,
   "metadata": {
    "collapsed": true
   },
   "outputs": [],
   "source": [
    "stacked = np.mean(stacked, axis=2)"
   ]
  },
  {
   "cell_type": "code",
   "execution_count": 87,
   "metadata": {},
   "outputs": [
    {
     "data": {
      "text/plain": [
       "array([[ 0.        ,  0.01972884,  0.05511483,  0.10187001,  0.1526818 ,\n",
       "         0.20281413,  0.25347884,  0.29864307,  0.33926108,  0.37595061,\n",
       "         0.40571081,  0.43160474,  0.45209433,  0.46509113,  0.47416696,\n",
       "         0.48083872,  0.48425534,  0.48594215,  0.48638953,  0.48643933,\n",
       "         0.48643933],\n",
       "       [ 0.        ,  0.01972884,  0.05511483,  0.10187001,  0.1526818 ,\n",
       "         0.20281413,  0.25347884,  0.29864307,  0.33926108,  0.37595061,\n",
       "         0.40571081,  0.43160474,  0.45209433,  0.46509113,  0.47416696,\n",
       "         0.48083872,  0.48425534,  0.48594215,  0.48638953,  0.48643933,\n",
       "         0.48643933],\n",
       "       [ 1.        ,  0.96054233,  0.88977035,  0.79625998,  0.69463641,\n",
       "         0.59437173,  0.49304231,  0.40271385,  0.32147784,  0.24809878,\n",
       "         0.18857838,  0.13679052,  0.09581133,  0.06981775,  0.05166608,\n",
       "         0.03832255,  0.03148933,  0.0281157 ,  0.02722095,  0.02712134,\n",
       "         0.02712134]])"
      ]
     },
     "execution_count": 87,
     "metadata": {},
     "output_type": "execute_result"
    }
   ],
   "source": [
    "stacked"
   ]
  },
  {
   "cell_type": "code",
   "execution_count": 89,
   "metadata": {},
   "outputs": [],
   "source": [
    "x = np.full(21, 1)"
   ]
  },
  {
   "cell_type": "code",
   "execution_count": 90,
   "metadata": {
    "collapsed": true
   },
   "outputs": [],
   "source": [
    "x = x / np.sum(x)"
   ]
  },
  {
   "cell_type": "code",
   "execution_count": 91,
   "metadata": {},
   "outputs": [
    {
     "data": {
      "text/plain": [
       "array([ 0.04761905,  0.04761905,  0.04761905,  0.04761905,  0.04761905,\n",
       "        0.04761905,  0.04761905,  0.04761905,  0.04761905,  0.04761905,\n",
       "        0.04761905,  0.04761905,  0.04761905,  0.04761905,  0.04761905,\n",
       "        0.04761905,  0.04761905,  0.04761905,  0.04761905,  0.04761905,\n",
       "        0.04761905])"
      ]
     },
     "execution_count": 91,
     "metadata": {},
     "output_type": "execute_result"
    }
   ],
   "source": [
    "x"
   ]
  },
  {
   "cell_type": "code",
   "execution_count": 93,
   "metadata": {},
   "outputs": [
    {
     "data": {
      "text/plain": [
       "(21, 1000)"
      ]
     },
     "execution_count": 93,
     "metadata": {},
     "output_type": "execute_result"
    }
   ],
   "source": [
    "np.shape(np.stack([x]* 1000, axis=1))"
   ]
  },
  {
   "cell_type": "code",
   "execution_count": 104,
   "metadata": {},
   "outputs": [
    {
     "data": {
      "text/plain": [
       "[0, 1, 2, 5, 6]"
      ]
     },
     "execution_count": 104,
     "metadata": {},
     "output_type": "execute_result"
    }
   ],
   "source": [
    "[i for i in range(7) if i != 4 and i != 3]"
   ]
  },
  {
   "cell_type": "code",
   "execution_count": 108,
   "metadata": {},
   "outputs": [
    {
     "data": {
      "text/plain": [
       "(21, 10000)"
      ]
     },
     "execution_count": 108,
     "metadata": {},
     "output_type": "execute_result"
    }
   ],
   "source": [
    "np.shape(np.sum(stacked[[0,2], :, :], axis=0))"
   ]
  },
  {
   "cell_type": "code",
   "execution_count": null,
   "metadata": {
    "collapsed": true
   },
   "outputs": [],
   "source": []
  }
 ],
 "metadata": {
  "kernelspec": {
   "display_name": "Python 3",
   "language": "python",
   "name": "python3"
  },
  "language_info": {
   "codemirror_mode": {
    "name": "ipython",
    "version": 3
   },
   "file_extension": ".py",
   "mimetype": "text/x-python",
   "name": "python",
   "nbconvert_exporter": "python",
   "pygments_lexer": "ipython3",
   "version": "3.6.2"
  }
 },
 "nbformat": 4,
 "nbformat_minor": 2
}
